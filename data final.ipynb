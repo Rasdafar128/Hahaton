{
 "cells": [
  {
   "cell_type": "code",
   "execution_count": 6,
   "metadata": {},
   "outputs": [],
   "source": [
    "import os\n",
    "import torch\n",
    "import pandas as pd\n",
    "import numpy as np\n",
    "import cv2"
   ]
  },
  {
   "cell_type": "code",
   "execution_count": 7,
   "metadata": {},
   "outputs": [],
   "source": [
    "from sklearn.metrics import accuracy_score, recall_score, precision_score, f1_score\n",
    "\n",
    "def get_valid_to_ans(path, mini):\n",
    "    video = cv2.VideoCapture(path)\n",
    "    fps = video.get(cv2.CAP_PROP_FPS)\n",
    "    frame_skip = int(fps) * 60\n",
    "    c = 0\n",
    "    right = []\n",
    "    left = []\n",
    "    current_frame = 0\n",
    "    while True:\n",
    "        ret, frame = video.read()\n",
    "        left_img = frame[:, :frame.shape[1] // 2]\n",
    "        right_img = frame[:, frame.shape[1] // 2:]\n",
    "        left_img = np.array(cv2.split(left_img))\n",
    "        right_img = np.array(cv2.split(right_img))\n",
    "        #cv2.imshow('part', frame)\n",
    "        right.append(right_img.astype('float64'))\n",
    "        left.append(left_img.astype('float64'))\n",
    "        current_frame += frame_skip\n",
    "        video.set(cv2.CAP_PROP_POS_FRAMES, current_frame)\n",
    "        if c == mini - 1:\n",
    "            break\n",
    "        c += 1\n",
    "    video.release()\n",
    "    return left, right\n",
    "\n",
    "\n",
    "def ans_numpy(path, minutes, model):\n",
    "    model.eval()\n",
    "    left, right = get_valid_to_ans(path, minutes)\n",
    "    left = torch.from_numpy(np.array(left)).to(torch.float32)\n",
    "    right = torch.from_numpy(np.array(right)).to(torch.float32)\n",
    "    return [list(x).index(max(x)) for x in model(left)], [list(x).index(max(x)) for x in model(right)]\n"
   ]
  },
  {
   "cell_type": "code",
   "execution_count": 8,
   "metadata": {},
   "outputs": [],
   "source": [
    "model_fin = torch.load(r'model\\our_model.pth')"
   ]
  },
  {
   "cell_type": "code",
   "execution_count": 9,
   "metadata": {},
   "outputs": [],
   "source": [
    "ans = ans_numpy('nine_hour_video\\Video.mp4', 30, model_fin)"
   ]
  },
  {
   "cell_type": "code",
   "execution_count": 10,
   "metadata": {},
   "outputs": [
    {
     "name": "stdout",
     "output_type": "stream",
     "text": [
      "[1, 1, 1, 1, 1, 1, 1, 1, 1, 1, 1, 1, 1, 1, 1, 1, 1, 1, 1, 1, 1, 1, 1, 1, 1, 1, 1, 1, 1, 1]\n",
      "[1, 1, 1, 1, 1, 1, 1, 1, 1, 1, 1, 1, 1, 1, 1, 1, 1, 1, 1, 1, 1, 1, 1, 1, 1, 1, 1, 1, 1, 1]\n"
     ]
    }
   ],
   "source": [
    "print(ans[0])\n",
    "print(ans[1])"
   ]
  },
  {
   "cell_type": "code",
   "execution_count": null,
   "metadata": {},
   "outputs": [],
   "source": []
  }
 ],
 "metadata": {
  "kernelspec": {
   "display_name": "Python 3",
   "language": "python",
   "name": "python3"
  },
  "language_info": {
   "codemirror_mode": {
    "name": "ipython",
    "version": 3
   },
   "file_extension": ".py",
   "mimetype": "text/x-python",
   "name": "python",
   "nbconvert_exporter": "python",
   "pygments_lexer": "ipython3",
   "version": "3.11.0"
  }
 },
 "nbformat": 4,
 "nbformat_minor": 2
}
