{
 "cells": [
  {
   "cell_type": "code",
   "execution_count": 1,
   "metadata": {},
   "outputs": [],
   "source": [
    "import pandas as pd\n",
    "import numpy as np\n",
    "import torch\n",
    "from torch import nn\n",
    "import cv2\n",
    "from torchvision.transforms import Normalize"
   ]
  },
  {
   "cell_type": "code",
   "execution_count": 2,
   "metadata": {},
   "outputs": [],
   "source": [
    "video = cv2.VideoCapture('nine_hour_video\\Video.mp4')\n",
    "c = 0\n",
    "while True:\n",
    "    c += 1\n",
    "    ret, frame = video.read()\n",
    "    cv2.imshow('part', frame[:, frame.shape[1] // 2:])\n",
    "    if cv2.waitKey(1) & 0xFF == ord('q') or c == 60 * 25:\n",
    "       break\n",
    "\n",
    "video.release()\n",
    "cv2.destroyAllWindows()"
   ]
  },
  {
   "cell_type": "code",
   "execution_count": 3,
   "metadata": {},
   "outputs": [],
   "source": [
    "def get_right_left(left_pd, right_pd, vid_len):\n",
    "    dict_type = {'простой': 0, 'вынужденная': 1, 'сварка': 2, 'перерыв': 3, 'обед': 3}\n",
    "    right_pd['sec'] = right_pd['time'].apply(lambda x: (int(x.split(':')[0]) * 3600 + int(x.split(':')[1]) * 60))\n",
    "    right_pd['new_type'] = right_pd['type'].apply(lambda x: dict_type[x])\n",
    "    left_pd['sec'] = left_pd['time'].apply(lambda x: (int(x.split(':')[0]) * 3600 + int(x.split(':')[1]) * 60))\n",
    "    left_pd['new_type'] = left_pd['type'].apply(lambda x: dict_type[x])\n",
    "    left = np.zeros(60 * 60 * vid_len)\n",
    "    right = np.zeros(60 * 60 * vid_len)\n",
    "    for second, typ in left_pd[['sec', 'new_type']].to_numpy():\n",
    "        left[second:] = typ\n",
    "    for second, typ in right_pd[['sec', 'new_type']].to_numpy():\n",
    "        right[second:] = typ\n",
    "    return left, right\n"
   ]
  },
  {
   "cell_type": "code",
   "execution_count": 4,
   "metadata": {},
   "outputs": [],
   "source": [
    "def get_valid_by_min(path, mini, right_y, left_y):\n",
    "        video = cv2.VideoCapture(path)\n",
    "        fps = video.get(cv2.CAP_PROP_FPS)\n",
    "        frame_skip = int(fps) * 60\n",
    "        c = 0\n",
    "        data_X = []\n",
    "        data_y = []\n",
    "        current_frame = 0\n",
    "        while True:\n",
    "            ret, frame = video.read()\n",
    "            left_img = frame[:, :frame.shape[1] // 2]\n",
    "            right_img = frame[:, frame.shape[1] // 2:]\n",
    "            left_img = np.array(cv2.split(left_img))\n",
    "            right_img = np.array(cv2.split(right_img))\n",
    "            data_X.append(left_img.astype('float64')) if left_y[c * 60] != 3 else 0\n",
    "            data_y.append(left_y[c * 60]) if left_y[c * 60] != 3 else 0\n",
    "            data_X.append(right_img.astype('float64')) if right_y[c * 60] != 3 else 0\n",
    "            data_y.append(right_y[c * 60]) if right_y[c * 60] != 3 else 0\n",
    "            current_frame += frame_skip\n",
    "            video.set(cv2.CAP_PROP_POS_FRAMES, current_frame)\n",
    "            if c == mini - 1:\n",
    "                break\n",
    "            c += 1\n",
    "        video.release()\n",
    "        return np.array(data_X), np.array(data_y)\n",
    "        "
   ]
  },
  {
   "cell_type": "code",
   "execution_count": 6,
   "metadata": {},
   "outputs": [],
   "source": [
    "full_5hours = get_valid_by_min('five_hour_video\\Video.mp4', 300, *get_right_left(pd.read_csv(r'csv\\LabelsLeft_five_hour_video.csv'), pd.read_csv('csv\\LabelsRight_five_hour_video.csv'), 5))"
   ]
  },
  {
   "cell_type": "code",
   "execution_count": null,
   "metadata": {},
   "outputs": [],
   "source": [
    "#full_9hours = get_valid_by_min('five_hour_video\\Video.mp4', 540, *get_right_left(pd.read_csv(r'csv\\LabelsLeft_nine_hour_video.csv'), pd.read_csv('csv\\LabelsRight_nine_hour_video.csv'), 9))"
   ]
  },
  {
   "cell_type": "code",
   "execution_count": 7,
   "metadata": {},
   "outputs": [],
   "source": [
    "from sklearn.metrics import accuracy_score, recall_score, precision_score, f1_score\n",
    "\n",
    "def train_model(model, optimizer, loss_function, data):    \n",
    "    model.train()\n",
    "    all_loss = 0\n",
    "    X_all, y_all = data[0], data[1]\n",
    "    y_pred = []\n",
    "    step = 5\n",
    "    for it in range(0, len(X_all), step):\n",
    "        X = torch.from_numpy(X_all[it: it + step]).to(torch.float32)\n",
    "        y = torch.from_numpy(y_all[it: it + step]).to(torch.long)\n",
    "        pred = model(X)\n",
    "        y_pred.extend(list(pred))\n",
    "        loss = loss_function(pred, y)\n",
    "        print(f\"Current loss = {loss.item()}\")\n",
    "        all_loss += loss.item()\n",
    "        loss.backward()\n",
    "        optimizer.step()\n",
    "        optimizer.zero_grad()\n",
    "    y_pred = [list(x).index(max(x)) for x in y_pred]\n",
    "    print(f\"Accuracy: {accuracy_score(y_all, y_pred)}\")\n",
    "    print(f\"Presicion: {precision_score(y_all, y_pred, average='weighted')}\")\n",
    "    print(f\"Recall: {recall_score(y_all, y_pred, average='weighted')}\")\n",
    "    print(f\"F1 score: {f1_score(y_all, y_pred, average='weighted')}\")\n",
    "    print(f'Потеря на тестовой выборке {all_loss / (len(X_all) // step)}')\n",
    "    return all_loss / (len(X_all) // step)\n",
    "\n",
    "\n",
    "def test_model(model, loss_function, data):    \n",
    "    model.eval()\n",
    "    all_loss = 0\n",
    "    X_all, y_all = data[0], data[1]\n",
    "    y_pred = []\n",
    "    step = 5\n",
    "    for it in range(0, len(X_all), step):\n",
    "        X = torch.from_numpy(X_all[it: it + step]).to(torch.float32)\n",
    "        y = torch.from_numpy(y_all[it: it + step]).to(torch.long)\n",
    "        pred = model(X)\n",
    "        y_pred.extend(list(pred))\n",
    "        loss = loss_function(pred, y)\n",
    "        all_loss += loss.item()\n",
    "        loss.backward()\n",
    "    y_pred = [list(x).index(max(x)) for x in y_pred]\n",
    "    print(f\"Accuracy: {accuracy_score(y_all, y_pred)}\")\n",
    "    print(f\"Presicion: {precision_score(y_all, y_pred, average='weighted')}\")\n",
    "    print(f\"Recall: {recall_score(y_all, y_pred, average='weighted')}\")\n",
    "    print(f\"F1 score: {f1_score(y_all, y_pred, average='weighted')}\")\n",
    "    print(f'Потеря на тестовой выборке {all_loss / (len(X_all) // step)}')\n",
    "    return all_loss / (len(X_all) // step)"
   ]
  },
  {
   "cell_type": "code",
   "execution_count": 15,
   "metadata": {},
   "outputs": [],
   "source": [
    "model = nn.Sequential(\n",
    "    nn.Conv2d(3, 4, 3),\n",
    "    nn.ReLU(),\n",
    "    nn.MaxPool2d(3, 3),\n",
    "\n",
    "    nn.Conv2d(4, 16, 3),\n",
    "    nn.ReLU(),\n",
    "    nn.MaxPool2d(3, 3),\n",
    "\n",
    "    nn.Conv2d(16, 64, 3),\n",
    "    nn.ReLU(),\n",
    "    nn.MaxPool2d(3, 3),\n",
    "\n",
    "    nn.Conv2d(64, 128, 3),\n",
    "    nn.ReLU(),\n",
    "    nn.MaxPool2d(4, 4),\n",
    "\n",
    "    nn.Flatten(-3),\n",
    "\n",
    "    nn.BatchNorm1d(9216),\n",
    "    nn.Linear(9216, 3200),\n",
    "    nn.ReLU(),\n",
    "    nn.Linear(3200, 320),\n",
    "    nn.ReLU(),\n",
    "    nn.Linear(320, 3),\n",
    "    nn.Softmax()\n",
    ")\n",
    "optim = torch.optim.Adam(model.parameters(), lr=1e-1)\n",
    "loss = nn.CrossEntropyLoss()"
   ]
  },
  {
   "cell_type": "code",
   "execution_count": 16,
   "metadata": {},
   "outputs": [
    {
     "name": "stderr",
     "output_type": "stream",
     "text": [
      "c:\\Users\\User\\AppData\\Local\\Programs\\Python\\Python311\\Lib\\site-packages\\torch\\nn\\modules\\module.py:1518: UserWarning: Implicit dimension choice for softmax has been deprecated. Change the call to include dim=X as an argument.\n",
      "  return self._call_impl(*args, **kwargs)\n"
     ]
    },
    {
     "name": "stdout",
     "output_type": "stream",
     "text": [
      "Current loss = 1.110744595527649\n",
      "Current loss = 1.151444673538208\n",
      "Current loss = 1.55144464969635\n",
      "Current loss = 0.9514446258544922\n",
      "Current loss = 0.5514446496963501\n",
      "Current loss = 0.7514446377754211\n",
      "Current loss = 1.55144464969635\n",
      "Current loss = 1.55144464969635\n",
      "Current loss = 1.55144464969635\n",
      "Current loss = 1.151444673538208\n",
      "Current loss = 1.55144464969635\n",
      "Current loss = 1.151444673538208\n",
      "Current loss = 1.151444673538208\n",
      "Current loss = 1.151444673538208\n",
      "Current loss = 1.151444673538208\n",
      "Current loss = 1.151444673538208\n",
      "Current loss = 1.3514446020126343\n",
      "Current loss = 1.55144464969635\n",
      "Current loss = 1.55144464969635\n",
      "Current loss = 0.9514446258544922\n",
      "Current loss = 1.55144464969635\n",
      "Current loss = 1.55144464969635\n",
      "Current loss = 1.55144464969635\n",
      "Current loss = 1.55144464969635\n",
      "Current loss = 1.55144464969635\n",
      "Current loss = 1.55144464969635\n",
      "Current loss = 1.55144464969635\n",
      "Current loss = 1.55144464969635\n",
      "Current loss = 1.55144464969635\n",
      "Current loss = 1.55144464969635\n",
      "Current loss = 1.55144464969635\n",
      "Current loss = 1.55144464969635\n",
      "Current loss = 1.55144464969635\n",
      "Current loss = 1.3514446020126343\n",
      "Current loss = 0.7514446377754211\n",
      "Current loss = 0.7514446377754211\n",
      "Current loss = 0.5514446496963501\n",
      "Current loss = 0.9514446258544922\n",
      "Current loss = 0.7514446377754211\n",
      "Current loss = 0.9514446258544922\n",
      "Current loss = 1.3514446020126343\n",
      "Current loss = 1.3514446020126343\n",
      "Current loss = 1.151444673538208\n",
      "Current loss = 1.3514446020126343\n",
      "Current loss = 1.55144464969635\n",
      "Current loss = 1.3514446020126343\n",
      "Current loss = 1.151444673538208\n",
      "Current loss = 1.151444673538208\n",
      "Current loss = 1.55144464969635\n",
      "Current loss = 1.151444673538208\n",
      "Current loss = 0.9514446258544922\n",
      "Current loss = 0.9514446258544922\n",
      "Current loss = 0.5514446496963501\n",
      "Current loss = 0.7514446377754211\n",
      "Current loss = 1.151444673538208\n",
      "Current loss = 0.9514446258544922\n",
      "Current loss = 0.5514446496963501\n",
      "Current loss = 0.7514446377754211\n",
      "Current loss = 0.7514446377754211\n",
      "Current loss = 0.9514446258544922\n",
      "Current loss = 1.151444673538208\n",
      "Current loss = 1.3514446020126343\n",
      "Current loss = 1.55144464969635\n",
      "Current loss = 1.3514446020126343\n",
      "Current loss = 0.9514446258544922\n",
      "Current loss = 1.3514446020126343\n",
      "Current loss = 1.55144464969635\n",
      "Current loss = 1.55144464969635\n",
      "Current loss = 1.55144464969635\n",
      "Current loss = 1.55144464969635\n",
      "Current loss = 1.3514446020126343\n",
      "Current loss = 1.3514446020126343\n",
      "Current loss = 1.151444673538208\n",
      "Current loss = 1.151444673538208\n",
      "Current loss = 1.55144464969635\n",
      "Current loss = 1.3514446020126343\n",
      "Current loss = 1.3514446020126343\n",
      "Current loss = 1.151444673538208\n",
      "Current loss = 0.5514446496963501\n",
      "Current loss = 1.151444673538208\n",
      "Current loss = 1.55144464969635\n",
      "Current loss = 0.9514446258544922\n",
      "Current loss = 1.3514446020126343\n",
      "Current loss = 1.3514446020126343\n",
      "Current loss = 1.151444673538208\n",
      "Current loss = 1.151444673538208\n",
      "Current loss = 1.55144464969635\n",
      "Current loss = 1.151444673538208\n",
      "Current loss = 1.151444673538208\n",
      "Current loss = 1.55144464969635\n",
      "Current loss = 1.55144464969635\n",
      "Current loss = 1.3514446020126343\n",
      "Current loss = 1.55144464969635\n",
      "Current loss = 1.55144464969635\n",
      "Current loss = 0.9514446258544922\n",
      "Current loss = 1.151444673538208\n",
      "Current loss = 0.9514446258544922\n",
      "Current loss = 0.5514446496963501\n",
      "Current loss = 1.151444673538208\n",
      "Current loss = 1.151444673538208\n",
      "Current loss = 1.55144464969635\n",
      "Current loss = 1.3514446020126343\n",
      "Current loss = 1.55144464969635\n",
      "Current loss = 1.55144464969635\n",
      "Current loss = 1.55144464969635\n",
      "Current loss = 1.55144464969635\n",
      "Current loss = 1.55144464969635\n",
      "Current loss = 1.55144464969635\n",
      "Accuracy: 0.2962962962962963\n",
      "Presicion: 0.08955223880597013\n",
      "Recall: 0.2962962962962963\n",
      "F1 score: 0.13753581661891115\n",
      "Потеря на тестовой выборке 1.2529196435654606\n"
     ]
    },
    {
     "name": "stderr",
     "output_type": "stream",
     "text": [
      "c:\\Users\\User\\AppData\\Local\\Programs\\Python\\Python311\\Lib\\site-packages\\sklearn\\metrics\\_classification.py:1469: UndefinedMetricWarning: Precision is ill-defined and being set to 0.0 in labels with no predicted samples. Use `zero_division` parameter to control this behavior.\n",
      "  _warn_prf(average, modifier, msg_start, len(result))\n"
     ]
    },
    {
     "data": {
      "text/plain": [
       "1.2529196435654606"
      ]
     },
     "execution_count": 16,
     "metadata": {},
     "output_type": "execute_result"
    }
   ],
   "source": [
    "train_model(model, optim, loss, full_5hours)"
   ]
  },
  {
   "cell_type": "code",
   "execution_count": null,
   "metadata": {},
   "outputs": [
    {
     "name": "stderr",
     "output_type": "stream",
     "text": [
      "c:\\Users\\User\\AppData\\Local\\Programs\\Python\\Python311\\Lib\\site-packages\\torch\\nn\\modules\\module.py:1518: UserWarning: Implicit dimension choice for softmax has been deprecated. Change the call to include dim=X as an argument.\n",
      "  return self._call_impl(*args, **kwargs)\n"
     ]
    },
    {
     "name": "stdout",
     "output_type": "stream",
     "text": [
      "Accuracy: 0.24583333333333332\n",
      "Presicion: 0.21864583333333332\n",
      "Recall: 0.24583333333333332\n",
      "F1 score: 0.2239203276247208\n",
      "Потеря на тестовой выборке 1.1737496107816696\n"
     ]
    },
    {
     "name": "stderr",
     "output_type": "stream",
     "text": [
      "c:\\Users\\User\\AppData\\Local\\Programs\\Python\\Python311\\Lib\\site-packages\\sklearn\\metrics\\_classification.py:1469: UndefinedMetricWarning: Precision is ill-defined and being set to 0.0 in labels with no predicted samples. Use `zero_division` parameter to control this behavior.\n",
      "  _warn_prf(average, modifier, msg_start, len(result))\n"
     ]
    },
    {
     "data": {
      "text/plain": [
       "1.1737496107816696"
      ]
     },
     "execution_count": 13,
     "metadata": {},
     "output_type": "execute_result"
    }
   ],
   "source": [
    "test_model(model, loss, get_valid_by_min('nine_hour_video\\Video.mp4', 120, *get_right_left(pd.read_csv('csv\\LabelsLeft_nine_hour_video.csv'), pd.read_csv('csv\\LabelsRight_nine_hour_video.csv'), 9)))"
   ]
  },
  {
   "cell_type": "code",
   "execution_count": null,
   "metadata": {},
   "outputs": [],
   "source": [
    "new_model = nn.Sequential(\n",
    "    nn.BatchNorm2d(3),\n",
    "    nn.Conv2d(3, 4, 3),\n",
    "    nn.ReLU(),\n",
    "    nn.MaxPool2d(2, 2),\n",
    "\n",
    "    nn.Conv2d(4, 16, 3),\n",
    "    nn.ReLU(),\n",
    "    nn.MaxPool2d(3, 3),\n",
    "\n",
    "    nn.Conv2d(16, 64, 3),\n",
    "    nn.ReLU(),\n",
    "    nn.MaxPool2d(4, 4),\n",
    "\n",
    "    nn.Conv2d(64, 128, 3),\n",
    "    nn.ReLU(),\n",
    "    nn.MaxPool2d(5, 5),\n",
    "\n",
    "\n",
    "    nn.Flatten(-3),\n",
    "\n",
    "    nn.BatchNorm1d(7168),\n",
    "    nn.Linear(7168, 3200),\n",
    "    nn.ReLU(),\n",
    "    nn.Linear(3200, 320),\n",
    "    nn.ReLU(),\n",
    "    nn.Linear(320, 3),\n",
    "    nn.Softmax()\n",
    ")\n",
    "optim_new = torch.optim.Adam(new_model.parameters(), lr=1e-1)\n",
    "loss_new = nn.CrossEntropyLoss() "
   ]
  },
  {
   "cell_type": "code",
   "execution_count": null,
   "metadata": {},
   "outputs": [
    {
     "name": "stderr",
     "output_type": "stream",
     "text": [
      "c:\\Users\\User\\AppData\\Local\\Programs\\Python\\Python311\\Lib\\site-packages\\torch\\nn\\modules\\module.py:1518: UserWarning: Implicit dimension choice for softmax has been deprecated. Change the call to include dim=X as an argument.\n",
      "  return self._call_impl(*args, **kwargs)\n"
     ]
    },
    {
     "name": "stdout",
     "output_type": "stream",
     "text": [
      "Current loss = 1.1128147840499878\n",
      "Current loss = 1.2514448165893555\n",
      "Current loss = 0.6514445543289185\n",
      "Current loss = 1.5514447689056396\n",
      "Current loss = 1.3514448404312134\n",
      "Current loss = 1.3514448404312134\n",
      "Current loss = 1.251444697380066\n",
      "Current loss = 1.251444697380066\n",
      "Current loss = 1.4514448642730713\n",
      "Current loss = 1.251444697380066\n",
      "Current loss = 1.5514447689056396\n",
      "Current loss = 1.5514447689056396\n",
      "Current loss = 1.5514447689056396\n",
      "Current loss = 1.5514447689056396\n",
      "Current loss = 1.5514447689056396\n",
      "Current loss = 1.5514447689056396\n",
      "Current loss = 1.4514448642730713\n",
      "Current loss = 0.7514445781707764\n",
      "Current loss = 0.7514445781707764\n",
      "Current loss = 0.8514446020126343\n",
      "Current loss = 1.3514448404312134\n",
      "Current loss = 1.251444697380066\n",
      "Current loss = 1.4514448642730713\n",
      "Current loss = 1.151444673538208\n",
      "Current loss = 1.3514448404312134\n",
      "Current loss = 0.9514446258544922\n",
      "Current loss = 0.6514445543289185\n",
      "Current loss = 1.0514447689056396\n",
      "Current loss = 0.7514445781707764\n",
      "Current loss = 0.9514447450637817\n",
      "Current loss = 1.2514448165893555\n",
      "Current loss = 1.4514448642730713\n",
      "Current loss = 1.151444673538208\n",
      "Current loss = 1.5514447689056396\n",
      "Current loss = 1.5514447689056396\n",
      "Current loss = 1.251444697380066\n",
      "Current loss = 1.151444673538208\n",
      "Current loss = 1.4514448642730713\n",
      "Current loss = 1.251444697380066\n",
      "Current loss = 0.8514446020126343\n",
      "Current loss = 1.251444697380066\n",
      "Current loss = 1.3514448404312134\n",
      "Current loss = 1.151444673538208\n",
      "Current loss = 1.3514448404312134\n",
      "Current loss = 1.3514447212219238\n",
      "Current loss = 1.4514448642730713\n",
      "Current loss = 1.5514447689056396\n",
      "Current loss = 1.0514447689056396\n",
      "Current loss = 0.7514445781707764\n",
      "Current loss = 1.151444673538208\n",
      "Current loss = 1.4514448642730713\n",
      "Current loss = 1.5514447689056396\n",
      "Current loss = 1.5514447689056396\n",
      "Current loss = 1.3514448404312134\n",
      "Accuracy: 0.28888888888888886\n",
      "Presicion: 0.20904214559386972\n",
      "Recall: 0.28888888888888886\n",
      "F1 score: 0.1448343079922027\n",
      "Потеря на тестовой выборке 1.2544330755869548\n"
     ]
    },
    {
     "data": {
      "text/plain": [
       "1.2544330755869548"
      ]
     },
     "execution_count": 17,
     "metadata": {},
     "output_type": "execute_result"
    }
   ],
   "source": [
    "train_model(new_model, optim_new, loss_new, full_5hours)"
   ]
  },
  {
   "cell_type": "code",
   "execution_count": null,
   "metadata": {},
   "outputs": [],
   "source": [
    "test_model(new_model, loss_new, get_valid_by_min('nine_hour_video\\Video.mp4', 120, *get_right_left(pd.read_csv('csv\\LabelsLeft_nine_hour_video.csv'), pd.read_csv('csv\\LabelsRight_nine_hour_video.csv'), 9)))"
   ]
  },
  {
   "cell_type": "code",
   "execution_count": 17,
   "metadata": {},
   "outputs": [],
   "source": [
    "import os\n",
    "save_folder = 'model'\n",
    "\n",
    "save_path = os.path.join(save_folder, 'new_model.pth')\n",
    "save_path2 = os.path.join(save_folder, 'our_model.pth')\n",
    "\n",
    "\n",
    "#torch.save(new_model, save_path)\n",
    "torch.save(model, save_path2)"
   ]
  },
  {
   "cell_type": "code",
   "execution_count": null,
   "metadata": {},
   "outputs": [],
   "source": []
  }
 ],
 "metadata": {
  "kernelspec": {
   "display_name": "Python 3",
   "language": "python",
   "name": "python3"
  },
  "language_info": {
   "codemirror_mode": {
    "name": "ipython",
    "version": 3
   },
   "file_extension": ".py",
   "mimetype": "text/x-python",
   "name": "python",
   "nbconvert_exporter": "python",
   "pygments_lexer": "ipython3",
   "version": "3.11.0"
  }
 },
 "nbformat": 4,
 "nbformat_minor": 2
}
